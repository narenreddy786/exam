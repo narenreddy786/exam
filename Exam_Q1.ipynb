{
  "nbformat": 4,
  "nbformat_minor": 0,
  "metadata": {
    "colab": {
      "name": "Exam_Q1.ipynb",
      "provenance": [],
      "collapsed_sections": []
    },
    "kernelspec": {
      "name": "python3",
      "display_name": "Python 3"
    },
    "language_info": {
      "name": "python"
    }
  },
  "cells": [
    {
      "cell_type": "code",
      "metadata": {
        "id": "mE6Duqa-Lopk"
      },
      "source": [
        "import pandas as pd\n",
        "import numpy as np\n",
        "import matplotlib.pyplot as plt\n",
        "from sklearn.preprocessing import LabelEncoder\n",
        "from sklearn.model_selection import train_test_split\n",
        "from sklearn.linear_model import LinearRegression\n",
        "from sklearn.linear_model import LogisticRegression\n",
        "from sklearn import tree\n",
        "from sklearn.ensemble import RandomForestClassifier"
      ],
      "execution_count": 35,
      "outputs": []
    },
    {
      "cell_type": "code",
      "metadata": {
        "colab": {
          "base_uri": "https://localhost:8080/",
          "height": 437
        },
        "id": "9eLMg33DRcLd",
        "outputId": "231ddffd-83a2-457b-af70-847688489033"
      },
      "source": [
        "df=pd.read_csv('Housing.csv')\n",
        "df"
      ],
      "execution_count": 36,
      "outputs": [
        {
          "output_type": "execute_result",
          "data": {
            "text/html": [
              "<div>\n",
              "<style scoped>\n",
              "    .dataframe tbody tr th:only-of-type {\n",
              "        vertical-align: middle;\n",
              "    }\n",
              "\n",
              "    .dataframe tbody tr th {\n",
              "        vertical-align: top;\n",
              "    }\n",
              "\n",
              "    .dataframe thead th {\n",
              "        text-align: right;\n",
              "    }\n",
              "</style>\n",
              "<table border=\"1\" class=\"dataframe\">\n",
              "  <thead>\n",
              "    <tr style=\"text-align: right;\">\n",
              "      <th></th>\n",
              "      <th>price</th>\n",
              "      <th>area</th>\n",
              "      <th>bedrooms</th>\n",
              "      <th>bathrooms</th>\n",
              "      <th>stories</th>\n",
              "      <th>mainroad</th>\n",
              "      <th>guestroom</th>\n",
              "      <th>basement</th>\n",
              "      <th>hotwaterheating</th>\n",
              "      <th>airconditioning</th>\n",
              "      <th>parking</th>\n",
              "      <th>prefarea</th>\n",
              "      <th>furnishingstatus</th>\n",
              "    </tr>\n",
              "  </thead>\n",
              "  <tbody>\n",
              "    <tr>\n",
              "      <th>0</th>\n",
              "      <td>13300000</td>\n",
              "      <td>7420</td>\n",
              "      <td>4</td>\n",
              "      <td>2</td>\n",
              "      <td>3</td>\n",
              "      <td>yes</td>\n",
              "      <td>no</td>\n",
              "      <td>no</td>\n",
              "      <td>no</td>\n",
              "      <td>yes</td>\n",
              "      <td>2</td>\n",
              "      <td>yes</td>\n",
              "      <td>furnished</td>\n",
              "    </tr>\n",
              "    <tr>\n",
              "      <th>1</th>\n",
              "      <td>12250000</td>\n",
              "      <td>8960</td>\n",
              "      <td>4</td>\n",
              "      <td>4</td>\n",
              "      <td>4</td>\n",
              "      <td>yes</td>\n",
              "      <td>no</td>\n",
              "      <td>no</td>\n",
              "      <td>no</td>\n",
              "      <td>yes</td>\n",
              "      <td>3</td>\n",
              "      <td>no</td>\n",
              "      <td>furnished</td>\n",
              "    </tr>\n",
              "    <tr>\n",
              "      <th>2</th>\n",
              "      <td>12250000</td>\n",
              "      <td>9960</td>\n",
              "      <td>3</td>\n",
              "      <td>2</td>\n",
              "      <td>2</td>\n",
              "      <td>yes</td>\n",
              "      <td>no</td>\n",
              "      <td>yes</td>\n",
              "      <td>no</td>\n",
              "      <td>no</td>\n",
              "      <td>2</td>\n",
              "      <td>yes</td>\n",
              "      <td>semi-furnished</td>\n",
              "    </tr>\n",
              "    <tr>\n",
              "      <th>3</th>\n",
              "      <td>12215000</td>\n",
              "      <td>7500</td>\n",
              "      <td>4</td>\n",
              "      <td>2</td>\n",
              "      <td>2</td>\n",
              "      <td>yes</td>\n",
              "      <td>no</td>\n",
              "      <td>yes</td>\n",
              "      <td>no</td>\n",
              "      <td>yes</td>\n",
              "      <td>3</td>\n",
              "      <td>yes</td>\n",
              "      <td>furnished</td>\n",
              "    </tr>\n",
              "    <tr>\n",
              "      <th>4</th>\n",
              "      <td>11410000</td>\n",
              "      <td>7420</td>\n",
              "      <td>4</td>\n",
              "      <td>1</td>\n",
              "      <td>2</td>\n",
              "      <td>yes</td>\n",
              "      <td>yes</td>\n",
              "      <td>yes</td>\n",
              "      <td>no</td>\n",
              "      <td>yes</td>\n",
              "      <td>2</td>\n",
              "      <td>no</td>\n",
              "      <td>furnished</td>\n",
              "    </tr>\n",
              "    <tr>\n",
              "      <th>...</th>\n",
              "      <td>...</td>\n",
              "      <td>...</td>\n",
              "      <td>...</td>\n",
              "      <td>...</td>\n",
              "      <td>...</td>\n",
              "      <td>...</td>\n",
              "      <td>...</td>\n",
              "      <td>...</td>\n",
              "      <td>...</td>\n",
              "      <td>...</td>\n",
              "      <td>...</td>\n",
              "      <td>...</td>\n",
              "      <td>...</td>\n",
              "    </tr>\n",
              "    <tr>\n",
              "      <th>540</th>\n",
              "      <td>1820000</td>\n",
              "      <td>3000</td>\n",
              "      <td>2</td>\n",
              "      <td>1</td>\n",
              "      <td>1</td>\n",
              "      <td>yes</td>\n",
              "      <td>no</td>\n",
              "      <td>yes</td>\n",
              "      <td>no</td>\n",
              "      <td>no</td>\n",
              "      <td>2</td>\n",
              "      <td>no</td>\n",
              "      <td>unfurnished</td>\n",
              "    </tr>\n",
              "    <tr>\n",
              "      <th>541</th>\n",
              "      <td>1767150</td>\n",
              "      <td>2400</td>\n",
              "      <td>3</td>\n",
              "      <td>1</td>\n",
              "      <td>1</td>\n",
              "      <td>no</td>\n",
              "      <td>no</td>\n",
              "      <td>no</td>\n",
              "      <td>no</td>\n",
              "      <td>no</td>\n",
              "      <td>0</td>\n",
              "      <td>no</td>\n",
              "      <td>semi-furnished</td>\n",
              "    </tr>\n",
              "    <tr>\n",
              "      <th>542</th>\n",
              "      <td>1750000</td>\n",
              "      <td>3620</td>\n",
              "      <td>2</td>\n",
              "      <td>1</td>\n",
              "      <td>1</td>\n",
              "      <td>yes</td>\n",
              "      <td>no</td>\n",
              "      <td>no</td>\n",
              "      <td>no</td>\n",
              "      <td>no</td>\n",
              "      <td>0</td>\n",
              "      <td>no</td>\n",
              "      <td>unfurnished</td>\n",
              "    </tr>\n",
              "    <tr>\n",
              "      <th>543</th>\n",
              "      <td>1750000</td>\n",
              "      <td>2910</td>\n",
              "      <td>3</td>\n",
              "      <td>1</td>\n",
              "      <td>1</td>\n",
              "      <td>no</td>\n",
              "      <td>no</td>\n",
              "      <td>no</td>\n",
              "      <td>no</td>\n",
              "      <td>no</td>\n",
              "      <td>0</td>\n",
              "      <td>no</td>\n",
              "      <td>furnished</td>\n",
              "    </tr>\n",
              "    <tr>\n",
              "      <th>544</th>\n",
              "      <td>1750000</td>\n",
              "      <td>3850</td>\n",
              "      <td>3</td>\n",
              "      <td>1</td>\n",
              "      <td>2</td>\n",
              "      <td>yes</td>\n",
              "      <td>no</td>\n",
              "      <td>no</td>\n",
              "      <td>no</td>\n",
              "      <td>no</td>\n",
              "      <td>0</td>\n",
              "      <td>no</td>\n",
              "      <td>unfurnished</td>\n",
              "    </tr>\n",
              "  </tbody>\n",
              "</table>\n",
              "<p>545 rows × 13 columns</p>\n",
              "</div>"
            ],
            "text/plain": [
              "        price  area  bedrooms  ...  parking  prefarea furnishingstatus\n",
              "0    13300000  7420         4  ...        2       yes        furnished\n",
              "1    12250000  8960         4  ...        3        no        furnished\n",
              "2    12250000  9960         3  ...        2       yes   semi-furnished\n",
              "3    12215000  7500         4  ...        3       yes        furnished\n",
              "4    11410000  7420         4  ...        2        no        furnished\n",
              "..        ...   ...       ...  ...      ...       ...              ...\n",
              "540   1820000  3000         2  ...        2        no      unfurnished\n",
              "541   1767150  2400         3  ...        0        no   semi-furnished\n",
              "542   1750000  3620         2  ...        0        no      unfurnished\n",
              "543   1750000  2910         3  ...        0        no        furnished\n",
              "544   1750000  3850         3  ...        0        no      unfurnished\n",
              "\n",
              "[545 rows x 13 columns]"
            ]
          },
          "metadata": {
            "tags": []
          },
          "execution_count": 36
        }
      ]
    },
    {
      "cell_type": "code",
      "metadata": {
        "colab": {
          "base_uri": "https://localhost:8080/",
          "height": 437
        },
        "id": "V1YG8_UXRq8e",
        "outputId": "9c45e32d-218d-4356-a0ef-aca87aca2fe2"
      },
      "source": [
        "from sklearn import preprocessing\n",
        "label_encoder=preprocessing.LabelEncoder()\n",
        "for i in ['mainroad','guestroom','basement','hotwaterheating','airconditioning','prefarea','furnishingstatus']:\n",
        "    df[i]=label_encoder.fit_transform(df[i])\n",
        "df"
      ],
      "execution_count": 37,
      "outputs": [
        {
          "output_type": "execute_result",
          "data": {
            "text/html": [
              "<div>\n",
              "<style scoped>\n",
              "    .dataframe tbody tr th:only-of-type {\n",
              "        vertical-align: middle;\n",
              "    }\n",
              "\n",
              "    .dataframe tbody tr th {\n",
              "        vertical-align: top;\n",
              "    }\n",
              "\n",
              "    .dataframe thead th {\n",
              "        text-align: right;\n",
              "    }\n",
              "</style>\n",
              "<table border=\"1\" class=\"dataframe\">\n",
              "  <thead>\n",
              "    <tr style=\"text-align: right;\">\n",
              "      <th></th>\n",
              "      <th>price</th>\n",
              "      <th>area</th>\n",
              "      <th>bedrooms</th>\n",
              "      <th>bathrooms</th>\n",
              "      <th>stories</th>\n",
              "      <th>mainroad</th>\n",
              "      <th>guestroom</th>\n",
              "      <th>basement</th>\n",
              "      <th>hotwaterheating</th>\n",
              "      <th>airconditioning</th>\n",
              "      <th>parking</th>\n",
              "      <th>prefarea</th>\n",
              "      <th>furnishingstatus</th>\n",
              "    </tr>\n",
              "  </thead>\n",
              "  <tbody>\n",
              "    <tr>\n",
              "      <th>0</th>\n",
              "      <td>13300000</td>\n",
              "      <td>7420</td>\n",
              "      <td>4</td>\n",
              "      <td>2</td>\n",
              "      <td>3</td>\n",
              "      <td>1</td>\n",
              "      <td>0</td>\n",
              "      <td>0</td>\n",
              "      <td>0</td>\n",
              "      <td>1</td>\n",
              "      <td>2</td>\n",
              "      <td>1</td>\n",
              "      <td>0</td>\n",
              "    </tr>\n",
              "    <tr>\n",
              "      <th>1</th>\n",
              "      <td>12250000</td>\n",
              "      <td>8960</td>\n",
              "      <td>4</td>\n",
              "      <td>4</td>\n",
              "      <td>4</td>\n",
              "      <td>1</td>\n",
              "      <td>0</td>\n",
              "      <td>0</td>\n",
              "      <td>0</td>\n",
              "      <td>1</td>\n",
              "      <td>3</td>\n",
              "      <td>0</td>\n",
              "      <td>0</td>\n",
              "    </tr>\n",
              "    <tr>\n",
              "      <th>2</th>\n",
              "      <td>12250000</td>\n",
              "      <td>9960</td>\n",
              "      <td>3</td>\n",
              "      <td>2</td>\n",
              "      <td>2</td>\n",
              "      <td>1</td>\n",
              "      <td>0</td>\n",
              "      <td>1</td>\n",
              "      <td>0</td>\n",
              "      <td>0</td>\n",
              "      <td>2</td>\n",
              "      <td>1</td>\n",
              "      <td>1</td>\n",
              "    </tr>\n",
              "    <tr>\n",
              "      <th>3</th>\n",
              "      <td>12215000</td>\n",
              "      <td>7500</td>\n",
              "      <td>4</td>\n",
              "      <td>2</td>\n",
              "      <td>2</td>\n",
              "      <td>1</td>\n",
              "      <td>0</td>\n",
              "      <td>1</td>\n",
              "      <td>0</td>\n",
              "      <td>1</td>\n",
              "      <td>3</td>\n",
              "      <td>1</td>\n",
              "      <td>0</td>\n",
              "    </tr>\n",
              "    <tr>\n",
              "      <th>4</th>\n",
              "      <td>11410000</td>\n",
              "      <td>7420</td>\n",
              "      <td>4</td>\n",
              "      <td>1</td>\n",
              "      <td>2</td>\n",
              "      <td>1</td>\n",
              "      <td>1</td>\n",
              "      <td>1</td>\n",
              "      <td>0</td>\n",
              "      <td>1</td>\n",
              "      <td>2</td>\n",
              "      <td>0</td>\n",
              "      <td>0</td>\n",
              "    </tr>\n",
              "    <tr>\n",
              "      <th>...</th>\n",
              "      <td>...</td>\n",
              "      <td>...</td>\n",
              "      <td>...</td>\n",
              "      <td>...</td>\n",
              "      <td>...</td>\n",
              "      <td>...</td>\n",
              "      <td>...</td>\n",
              "      <td>...</td>\n",
              "      <td>...</td>\n",
              "      <td>...</td>\n",
              "      <td>...</td>\n",
              "      <td>...</td>\n",
              "      <td>...</td>\n",
              "    </tr>\n",
              "    <tr>\n",
              "      <th>540</th>\n",
              "      <td>1820000</td>\n",
              "      <td>3000</td>\n",
              "      <td>2</td>\n",
              "      <td>1</td>\n",
              "      <td>1</td>\n",
              "      <td>1</td>\n",
              "      <td>0</td>\n",
              "      <td>1</td>\n",
              "      <td>0</td>\n",
              "      <td>0</td>\n",
              "      <td>2</td>\n",
              "      <td>0</td>\n",
              "      <td>2</td>\n",
              "    </tr>\n",
              "    <tr>\n",
              "      <th>541</th>\n",
              "      <td>1767150</td>\n",
              "      <td>2400</td>\n",
              "      <td>3</td>\n",
              "      <td>1</td>\n",
              "      <td>1</td>\n",
              "      <td>0</td>\n",
              "      <td>0</td>\n",
              "      <td>0</td>\n",
              "      <td>0</td>\n",
              "      <td>0</td>\n",
              "      <td>0</td>\n",
              "      <td>0</td>\n",
              "      <td>1</td>\n",
              "    </tr>\n",
              "    <tr>\n",
              "      <th>542</th>\n",
              "      <td>1750000</td>\n",
              "      <td>3620</td>\n",
              "      <td>2</td>\n",
              "      <td>1</td>\n",
              "      <td>1</td>\n",
              "      <td>1</td>\n",
              "      <td>0</td>\n",
              "      <td>0</td>\n",
              "      <td>0</td>\n",
              "      <td>0</td>\n",
              "      <td>0</td>\n",
              "      <td>0</td>\n",
              "      <td>2</td>\n",
              "    </tr>\n",
              "    <tr>\n",
              "      <th>543</th>\n",
              "      <td>1750000</td>\n",
              "      <td>2910</td>\n",
              "      <td>3</td>\n",
              "      <td>1</td>\n",
              "      <td>1</td>\n",
              "      <td>0</td>\n",
              "      <td>0</td>\n",
              "      <td>0</td>\n",
              "      <td>0</td>\n",
              "      <td>0</td>\n",
              "      <td>0</td>\n",
              "      <td>0</td>\n",
              "      <td>0</td>\n",
              "    </tr>\n",
              "    <tr>\n",
              "      <th>544</th>\n",
              "      <td>1750000</td>\n",
              "      <td>3850</td>\n",
              "      <td>3</td>\n",
              "      <td>1</td>\n",
              "      <td>2</td>\n",
              "      <td>1</td>\n",
              "      <td>0</td>\n",
              "      <td>0</td>\n",
              "      <td>0</td>\n",
              "      <td>0</td>\n",
              "      <td>0</td>\n",
              "      <td>0</td>\n",
              "      <td>2</td>\n",
              "    </tr>\n",
              "  </tbody>\n",
              "</table>\n",
              "<p>545 rows × 13 columns</p>\n",
              "</div>"
            ],
            "text/plain": [
              "        price  area  bedrooms  ...  parking  prefarea  furnishingstatus\n",
              "0    13300000  7420         4  ...        2         1                 0\n",
              "1    12250000  8960         4  ...        3         0                 0\n",
              "2    12250000  9960         3  ...        2         1                 1\n",
              "3    12215000  7500         4  ...        3         1                 0\n",
              "4    11410000  7420         4  ...        2         0                 0\n",
              "..        ...   ...       ...  ...      ...       ...               ...\n",
              "540   1820000  3000         2  ...        2         0                 2\n",
              "541   1767150  2400         3  ...        0         0                 1\n",
              "542   1750000  3620         2  ...        0         0                 2\n",
              "543   1750000  2910         3  ...        0         0                 0\n",
              "544   1750000  3850         3  ...        0         0                 2\n",
              "\n",
              "[545 rows x 13 columns]"
            ]
          },
          "metadata": {
            "tags": []
          },
          "execution_count": 37
        }
      ]
    },
    {
      "cell_type": "code",
      "metadata": {
        "id": "4wGq-yxrSri_"
      },
      "source": [
        "X=df.drop('furnishingstatus',axis='columns')\n",
        "Y=df['furnishingstatus']"
      ],
      "execution_count": 38,
      "outputs": []
    },
    {
      "cell_type": "markdown",
      "metadata": {
        "id": "HdPr-00jUeRE"
      },
      "source": [
        "# **Linear Regression**"
      ]
    },
    {
      "cell_type": "code",
      "metadata": {
        "colab": {
          "base_uri": "https://localhost:8080/"
        },
        "id": "guX45R8DTcfT",
        "outputId": "4f42bcaa-442c-4836-c059-201a52ec453d"
      },
      "source": [
        "model=LinearRegression()\n",
        "model.fit(X,Y)\n",
        "R_square=model.score(X,Y)\n",
        "print('Coeffecient of determination:', R_square)\n",
        "#print('parameter: theta0', model.intercept_)\n",
        "#print('parameter: theta1',model.coef_)"
      ],
      "execution_count": 39,
      "outputs": [
        {
          "output_type": "stream",
          "text": [
            "Coeffecient of determination: 0.10648833028125591\n"
          ],
          "name": "stdout"
        }
      ]
    },
    {
      "cell_type": "code",
      "metadata": {
        "colab": {
          "base_uri": "https://localhost:8080/"
        },
        "id": "lLju3FOSTxK1",
        "outputId": "957cc24a-cdae-45a6-88c4-893e6273e75d"
      },
      "source": [
        "Y_pred=model.predict(X)\n",
        "print('predicted values:',Y_pred, sep='\\n')"
      ],
      "execution_count": 40,
      "outputs": [
        {
          "output_type": "stream",
          "text": [
            "predicted values:\n",
            "[0.16219197 0.25175731 0.25643991 0.12262193 0.16672296 0.35121667\n",
            " 0.5110678  0.62895271 0.3365726  0.54237348 0.45500506 0.37969432\n",
            " 0.59684508 0.52668996 0.73558913 0.48554837 0.48364054 0.62337309\n",
            " 0.52675726 0.67071788 0.51376201 0.47038378 0.51682883 0.53406811\n",
            " 0.63575013 0.48021075 0.65871624 0.71709994 0.52488315 0.60681953\n",
            " 0.67401722 0.65245196 0.68948079 0.64292443 0.51752724 0.70336106\n",
            " 0.77897776 0.69272962 0.63206317 0.7445727  0.73186984 0.85594014\n",
            " 0.73860756 0.74513408 0.77910151 0.85360125 0.81212341 0.69689432\n",
            " 0.74760941 0.72764994 0.88206772 0.80450857 0.74075873 0.76716503\n",
            " 0.74337616 0.78300359 0.7565835  0.77945642 0.762113   0.78413927\n",
            " 0.80234405 0.83965028 0.80156781 0.77549859 0.76707457 0.78171499\n",
            " 0.80768035 0.82132453 0.81786814 0.85016972 0.84689299 0.91692429\n",
            " 0.94098346 0.96369613 0.77808426 0.90242838 0.96013169 0.96049087\n",
            " 0.65955554 0.88431609 0.87891195 0.79088104 0.82145834 0.96375771\n",
            " 0.80731839 0.96728957 0.91879737 0.75144863 0.68449738 0.84393336\n",
            " 0.92669528 0.75487838 0.91657437 0.70603529 0.94165584 0.85256146\n",
            " 0.86461764 0.75563367 0.99615923 0.85133034 0.9003366  0.95784717\n",
            " 0.88202796 0.93077495 0.76122829 0.97902504 0.87251016 0.95565663\n",
            " 0.9153466  0.85078121 0.757093   0.87302623 0.92774807 0.83040262\n",
            " 0.77959586 0.73203378 0.90159134 0.88056989 0.90771885 0.79359967\n",
            " 0.77063514 0.86577574 0.87668128 1.01356602 1.00811077 0.89302852\n",
            " 0.8393846  1.02158441 0.88088603 0.96141883 0.87305309 0.96913774\n",
            " 1.00322088 1.00142498 0.84626258 1.04317397 0.87059941 0.94441168\n",
            " 1.00922869 0.75229367 1.04572891 0.86226932 1.00396566 1.07489562\n",
            " 0.78609568 1.07476661 1.03019526 1.01108603 1.08226671 0.97117005\n",
            " 0.89089857 0.87881129 0.83639872 1.0108673  0.95127928 0.88858694\n",
            " 0.93118961 1.00331922 0.94126426 0.8868805  0.96713102 0.99760023\n",
            " 0.9393973  0.90227034 0.91795943 0.9192021  0.85925352 0.95755731\n",
            " 0.93611559 1.19850687 1.01545932 1.04898778 0.82326884 1.03669785\n",
            " 0.8992732  0.91788509 0.92960828 1.01405646 0.84421139 0.98024504\n",
            " 0.98742565 0.91799116 1.20494903 1.04906943 0.97246224 1.01208967\n",
            " 1.1693734  0.98915129 1.10902911 1.13608885 0.93010179 0.99450628\n",
            " 0.97749245 0.98480067 0.9924672  0.92471497 0.94606276 1.10679574\n",
            " 1.07942543 1.05418378 1.00138074 1.09804835 0.99552216 1.08909953\n",
            " 0.96821792 0.95416989 0.96416075 0.99455635 1.12123429 1.1111192\n",
            " 0.86432396 1.02205271 0.87018323 1.01884238 1.05841419 1.13348283\n",
            " 1.01302878 0.99194452 1.11566029 1.06112452 0.90838216 1.11276346\n",
            " 0.93533175 0.96487176 1.03010981 0.94046306 1.12705417 0.98642954\n",
            " 1.01462599 0.95585432 1.1838247  1.13593099 1.06032197 0.95485163\n",
            " 0.96700059 0.99183154 1.04522513 1.06945436 1.0577637  1.08505235\n",
            " 1.09920384 1.01554539 1.10704483 1.06531539 1.03356172 1.0510746\n",
            " 1.14615073 0.98882958 1.04943084 1.02263432 1.16164044 1.01440252\n",
            " 1.16319864 1.19264841 0.97147463 1.08171675 1.03700448 1.15942306\n",
            " 1.09559058 1.0094537  1.05408857 1.15230811 1.03809486 1.3182154\n",
            " 1.11924679 1.17125519 1.04994584 1.10713788 1.09993119 1.16372717\n",
            " 1.11603436 1.18163459 0.90353063 1.01900213 1.14905985 1.1108514\n",
            " 1.13056451 1.17219315 0.99412096 1.20122377 1.21469956 1.03780925\n",
            " 1.15157993 1.14658208 1.14914778 1.13082538 1.09884945 1.14992454\n",
            " 1.07277302 0.95488044 1.34213191 1.06340296 1.32331436 1.29860386\n",
            " 1.32893999 1.33155607 1.10690992 1.12417065 1.03089181 1.00621442\n",
            " 1.19527103 1.19415533 1.14305123 1.09512338 0.93743091 1.12125526\n",
            " 1.13025829 1.06843959 1.05160721 1.1233642  1.10869639 1.0808862\n",
            " 1.07771523 1.20979512 1.16314128 1.17682538 1.21778925 1.10232551\n",
            " 1.18330279 0.94451926 1.09474562 1.07132193 1.030494   1.01629526\n",
            " 1.24697523 1.13018732 1.24211158 1.27427107 1.26813431 1.20197825\n",
            " 1.11267488 0.92029113 1.05208287 1.20457387 1.13522116 0.99418085\n",
            " 1.05884228 1.1169066  1.10695144 1.19869853 1.18210063 1.05591439\n",
            " 1.19187038 1.23242176 1.23138912 1.14684086 1.19315889 1.21443219\n",
            " 1.33368141 1.2265567  1.16309213 1.23717245 1.13037153 1.24608451\n",
            " 1.20031664 1.11235824 1.14963219 1.3063809  1.25495642 1.15610269\n",
            " 1.2460537  1.22537435 1.24609859 1.21566493 1.28072862 1.25307479\n",
            " 1.17257955 1.20941518 1.41432596 1.2475311  1.09897337 1.15966982\n",
            " 1.31555464 1.22351533 1.1949712  1.11134021 1.13988994 1.34837553\n",
            " 1.19069545 1.1198032  1.25847761 1.2711026  1.1646899  1.04380164\n",
            " 1.41956631 1.25806933 1.11608302 1.2133251  1.24892677 1.223623\n",
            " 1.41919328 1.17108383 1.25045327 1.41003103 1.35407293 1.10158873\n",
            " 1.20656858 1.21671537 1.1881407  1.22322548 1.22086375 1.11484201\n",
            " 1.27503208 1.27717852 1.41286532 1.23625492 1.23243406 1.27396825\n",
            " 1.27349716 1.15302501 1.24325468 1.27742113 1.19094682 1.20741624\n",
            " 1.27436732 1.03357783 1.05301241 1.27533373 1.0774322  1.41016243\n",
            " 1.29441747 1.28377021 1.398531   1.24971147 1.34281851 1.08484453\n",
            " 1.40332365 1.19852716 1.22562888 1.2416731  1.3999593  1.12462802\n",
            " 1.1328422  1.33854109 1.24071258 1.28748827 1.20267062 1.20777385\n",
            " 1.45064224 1.44808309 1.17046851 1.27978242 1.19164885 1.36531145\n",
            " 1.43180607 1.32821987 1.28557299 1.38142491 1.18473371 1.35702569\n",
            " 1.20747139 1.31346696 1.19066261 1.23853376 1.24971182 1.20524883\n",
            " 1.28230156 1.38989956 1.2878064  1.30232822 1.26733677 1.19899926\n",
            " 1.36622122 1.169794   1.23699867 1.3105809  1.45238867 1.17861329\n",
            " 1.30970119 1.31762557 1.44782948 1.29771607 1.09238877 1.33380571\n",
            " 1.37353207 1.32875182 1.18055752 1.32614763 1.40317768 1.43228456\n",
            " 1.40263891 1.47363666 1.45956381 1.31748491 1.48206893 1.32708205\n",
            " 1.33772271 1.28936664 1.30367092 1.41218941 1.38856218 1.42531941\n",
            " 1.18000191 1.30590041 1.35512602 1.26805505 1.34600766 1.34916422\n",
            " 1.35395687 1.46914715 1.31450385 1.47047847 1.28871937 1.31989153\n",
            " 1.30824138 1.29580729 1.50772716 1.35457041 1.35816219 1.25398609\n",
            " 1.48631037 1.48765729 1.37225813 1.35242762 1.50377781 1.27545148\n",
            " 1.40693487 1.30728159 1.30887289 1.38742499 1.38678983 1.53031835\n",
            " 1.35414353 1.34540796 1.37377915 1.37892017 1.38030777 1.46027603\n",
            " 1.57451237 1.29612808 1.48141652 1.50210839 1.55439984 1.38142985\n",
            " 1.35455467 1.3434267  1.49831869 1.39900433 1.42384803 1.52357149\n",
            " 1.2359407  1.55842677 1.43752935 1.56240845 1.42246877]\n"
          ],
          "name": "stdout"
        }
      ]
    },
    {
      "cell_type": "markdown",
      "metadata": {
        "id": "pZrHIRiJUiSd"
      },
      "source": [
        "# **Decision Tree**"
      ]
    },
    {
      "cell_type": "code",
      "metadata": {
        "colab": {
          "base_uri": "https://localhost:8080/"
        },
        "id": "-xpBYomtTy4B",
        "outputId": "f6628e85-e698-43c2-c2d2-472d2f3382fa"
      },
      "source": [
        "model_1=tree.DecisionTreeClassifier()\n",
        "model_1.fit(X,Y)"
      ],
      "execution_count": 41,
      "outputs": [
        {
          "output_type": "execute_result",
          "data": {
            "text/plain": [
              "DecisionTreeClassifier(ccp_alpha=0.0, class_weight=None, criterion='gini',\n",
              "                       max_depth=None, max_features=None, max_leaf_nodes=None,\n",
              "                       min_impurity_decrease=0.0, min_impurity_split=None,\n",
              "                       min_samples_leaf=1, min_samples_split=2,\n",
              "                       min_weight_fraction_leaf=0.0, presort='deprecated',\n",
              "                       random_state=None, splitter='best')"
            ]
          },
          "metadata": {
            "tags": []
          },
          "execution_count": 41
        }
      ]
    },
    {
      "cell_type": "code",
      "metadata": {
        "colab": {
          "base_uri": "https://localhost:8080/"
        },
        "id": "5IyRUXHbUURq",
        "outputId": "7317f116-7771-494f-9fba-4db114c1ab92"
      },
      "source": [
        "model_1.score(X,Y)"
      ],
      "execution_count": 42,
      "outputs": [
        {
          "output_type": "execute_result",
          "data": {
            "text/plain": [
              "1.0"
            ]
          },
          "metadata": {
            "tags": []
          },
          "execution_count": 42
        }
      ]
    },
    {
      "cell_type": "code",
      "metadata": {
        "colab": {
          "base_uri": "https://localhost:8080/"
        },
        "id": "K_hgQBjOUaLI",
        "outputId": "32f5d29a-f8b7-4096-be38-9fd04eb426cc"
      },
      "source": [
        "Y_pred=model_1.predict(X)\n",
        "print('predicted values:',Y_pred, sep='\\n')"
      ],
      "execution_count": 43,
      "outputs": [
        {
          "output_type": "stream",
          "text": [
            "predicted values:\n",
            "[0 0 1 0 0 1 1 2 0 2 0 1 1 0 1 1 2 0 0 1 1 2 0 0 0 0 1 1 2 1 2 1 0 2 0 0 0\n",
            " 0 2 1 0 0 2 1 0 1 0 0 2 1 2 2 0 1 1 2 1 0 1 0 1 1 0 0 0 0 0 2 0 0 1 2 2 0\n",
            " 0 1 0 0 0 0 1 1 0 1 1 0 2 1 2 0 1 0 0 1 1 1 0 1 2 2 2 2 1 0 0 2 1 2 1 1 1\n",
            " 2 0 0 0 1 2 0 0 1 0 1 1 0 0 1 2 2 0 1 2 1 1 2 1 2 2 1 1 0 2 1 1 2 0 0 1 1\n",
            " 1 1 2 1 0 1 1 0 1 0 1 0 0 1 1 1 0 2 2 1 0 1 1 1 2 2 2 1 0 1 1 1 1 0 1 1 0\n",
            " 2 0 1 2 1 0 1 0 1 1 1 1 1 1 0 1 1 1 1 1 1 1 1 1 2 1 0 1 1 2 2 1 0 1 2 1 1\n",
            " 1 0 2 1 1 0 1 1 1 1 0 2 1 1 1 1 1 0 1 1 0 0 1 2 1 2 1 0 1 1 1 0 1 2 0 0 1\n",
            " 0 0 1 1 1 1 1 2 1 1 2 0 1 1 0 1 0 1 1 1 0 2 0 2 0 0 1 0 2 2 1 1 2 1 2 1 1\n",
            " 1 2 1 0 1 1 2 0 1 1 1 1 1 1 1 1 0 1 1 1 2 2 1 1 0 1 0 1 1 1 2 1 1 0 2 0 1\n",
            " 1 0 0 1 2 1 0 1 1 0 1 1 1 1 2 1 1 1 1 2 0 0 0 0 0 1 2 1 1 0 1 1 0 0 2 1 0\n",
            " 1 1 1 0 1 2 1 2 1 2 1 1 0 0 0 2 2 1 2 1 2 1 1 2 2 2 1 0 2 1 2 2 2 2 2 2 2\n",
            " 0 2 2 2 0 2 2 2 0 2 0 2 1 2 2 2 2 1 0 0 0 2 2 2 2 0 1 1 2 0 2 1 2 2 2 2 2\n",
            " 0 0 2 1 1 2 1 1 1 2 2 2 1 2 2 2 2 2 1 2 1 2 1 1 1 0 2 2 1 2 2 1 2 2 2 2 1\n",
            " 0 2 1 2 2 1 2 2 1 2 0 2 0 2 2 2 2 1 2 2 2 1 1 2 2 2 2 2 0 2 2 0 2 1 2 2 2\n",
            " 2 2 2 2 0 0 2 2 2 1 2 2 2 2 2 2 2 2 2 2 2 2 2 1 2 0 2]\n"
          ],
          "name": "stdout"
        }
      ]
    },
    {
      "cell_type": "markdown",
      "metadata": {
        "id": "NfO_vaH-VMLz"
      },
      "source": [
        "# **Random Forest**"
      ]
    },
    {
      "cell_type": "code",
      "metadata": {
        "id": "1i_Vh3RtU2_H"
      },
      "source": [
        "X_train,X_test,y_train,y_test=train_test_split(X,Y,test_size=0.3,random_state=109)"
      ],
      "execution_count": 44,
      "outputs": []
    },
    {
      "cell_type": "code",
      "metadata": {
        "colab": {
          "base_uri": "https://localhost:8080/"
        },
        "id": "D-PUoL5kWRHa",
        "outputId": "f92d0a67-de25-46f2-d989-702d3ee42cec"
      },
      "source": [
        "model_2=RandomForestClassifier(n_estimators=20).fit(X_train,y_train)\n",
        "model_2"
      ],
      "execution_count": 45,
      "outputs": [
        {
          "output_type": "execute_result",
          "data": {
            "text/plain": [
              "RandomForestClassifier(bootstrap=True, ccp_alpha=0.0, class_weight=None,\n",
              "                       criterion='gini', max_depth=None, max_features='auto',\n",
              "                       max_leaf_nodes=None, max_samples=None,\n",
              "                       min_impurity_decrease=0.0, min_impurity_split=None,\n",
              "                       min_samples_leaf=1, min_samples_split=2,\n",
              "                       min_weight_fraction_leaf=0.0, n_estimators=20,\n",
              "                       n_jobs=None, oob_score=False, random_state=None,\n",
              "                       verbose=0, warm_start=False)"
            ]
          },
          "metadata": {
            "tags": []
          },
          "execution_count": 45
        }
      ]
    },
    {
      "cell_type": "code",
      "metadata": {
        "colab": {
          "base_uri": "https://localhost:8080/"
        },
        "id": "OSa2M700Wm9p",
        "outputId": "f7ba27da-6417-40ad-a490-20ae20851ee4"
      },
      "source": [
        "model_2.score(X_test,y_test)"
      ],
      "execution_count": 46,
      "outputs": [
        {
          "output_type": "execute_result",
          "data": {
            "text/plain": [
              "0.4695121951219512"
            ]
          },
          "metadata": {
            "tags": []
          },
          "execution_count": 46
        }
      ]
    },
    {
      "cell_type": "code",
      "metadata": {
        "colab": {
          "base_uri": "https://localhost:8080/"
        },
        "id": "rdPD9x-DW0g_",
        "outputId": "80e99adc-56d4-4850-dfb5-6eeeab0369ca"
      },
      "source": [
        "y_pred=model_2.predict(X_test)\n",
        "print('predicted values:',y_pred, sep='\\n')"
      ],
      "execution_count": 47,
      "outputs": [
        {
          "output_type": "stream",
          "text": [
            "predicted values:\n",
            "[1 1 1 1 0 1 0 1 1 0 0 1 1 0 2 0 1 1 0 1 1 1 1 1 1 1 1 0 1 0 1 1 2 2 0 0 0\n",
            " 1 1 0 1 1 0 2 1 1 1 2 2 0 2 1 2 1 1 2 2 1 1 0 0 0 1 2 2 2 1 2 1 2 1 1 2 0\n",
            " 1 1 1 2 1 1 1 1 2 0 1 1 1 1 0 2 1 2 2 2 0 1 2 0 1 0 1 1 1 1 1 1 1 2 1 2 0\n",
            " 0 0 0 1 1 1 2 1 1 1 1 1 0 0 1 0 1 1 0 2 1 0 2 1 1 0 1 2 0 2 1 0 1 1 1 1 2\n",
            " 0 2 1 1 1 0 0 2 1 0 2 2 1 2 0 0]\n"
          ],
          "name": "stdout"
        }
      ]
    },
    {
      "cell_type": "markdown",
      "metadata": {
        "id": "_8vWSiunYsZs"
      },
      "source": [
        "# **Logistic Regression**"
      ]
    },
    {
      "cell_type": "code",
      "metadata": {
        "colab": {
          "base_uri": "https://localhost:8080/"
        },
        "id": "NEWqwbQkW5Kx",
        "outputId": "4a170596-3517-43da-92b3-267541c351ef"
      },
      "source": [
        "model_3=LogisticRegression(solver='liblinear',random_state=0).fit(X_train, y_train)\n",
        "model_3"
      ],
      "execution_count": 48,
      "outputs": [
        {
          "output_type": "execute_result",
          "data": {
            "text/plain": [
              "LogisticRegression(C=1.0, class_weight=None, dual=False, fit_intercept=True,\n",
              "                   intercept_scaling=1, l1_ratio=None, max_iter=100,\n",
              "                   multi_class='auto', n_jobs=None, penalty='l2',\n",
              "                   random_state=0, solver='liblinear', tol=0.0001, verbose=0,\n",
              "                   warm_start=False)"
            ]
          },
          "metadata": {
            "tags": []
          },
          "execution_count": 48
        }
      ]
    },
    {
      "cell_type": "code",
      "metadata": {
        "colab": {
          "base_uri": "https://localhost:8080/"
        },
        "id": "pISNYpv5ZFzi",
        "outputId": "1c47328a-de94-4b2e-acc8-e61c5db23dfd"
      },
      "source": [
        "model_3.score(X_test,y_test)"
      ],
      "execution_count": 49,
      "outputs": [
        {
          "output_type": "execute_result",
          "data": {
            "text/plain": [
              "0.38414634146341464"
            ]
          },
          "metadata": {
            "tags": []
          },
          "execution_count": 49
        }
      ]
    },
    {
      "cell_type": "code",
      "metadata": {
        "colab": {
          "base_uri": "https://localhost:8080/"
        },
        "id": "IbSBcr1RZQOw",
        "outputId": "45f1e891-169a-445c-913c-d9a865b6287b"
      },
      "source": [
        "y_pred=model_3.predict(X_test)\n",
        "print('predicted values:',y_pred, sep='\\n')"
      ],
      "execution_count": 50,
      "outputs": [
        {
          "output_type": "stream",
          "text": [
            "predicted values:\n",
            "[1 1 1 1 1 1 1 1 1 1 1 2 1 1 1 1 1 1 1 1 1 1 1 1 1 1 2 1 2 1 1 2 1 1 1 1 1\n",
            " 1 1 1 1 2 1 1 1 1 1 1 1 1 1 1 1 1 1 1 1 1 1 1 1 1 1 2 1 1 1 1 1 1 1 1 1 1\n",
            " 1 1 1 2 1 1 2 1 1 1 1 1 1 1 1 1 1 1 1 1 1 1 1 1 1 1 1 1 1 1 1 1 1 1 1 1 1\n",
            " 1 1 1 1 1 1 1 1 1 1 1 1 1 1 1 1 1 1 1 1 1 1 1 1 1 1 2 1 1 1 1 1 1 1 1 1 1\n",
            " 1 2 1 1 1 1 1 1 1 1 1 1 1 2 1 1]\n"
          ],
          "name": "stdout"
        }
      ]
    },
    {
      "cell_type": "code",
      "metadata": {
        "id": "PHCj2C-RZWRX"
      },
      "source": [
        "import pickle\n",
        "pickle.dump(model_1,open('model_save','wb'))"
      ],
      "execution_count": 57,
      "outputs": []
    },
    {
      "cell_type": "code",
      "metadata": {
        "colab": {
          "base_uri": "https://localhost:8080/"
        },
        "id": "MjMvjpb8aVNE",
        "outputId": "d84dfd68-5011-486c-948e-46c224b63d07"
      },
      "source": [
        "import joblib\n",
        "joblib.dump(model_2,\"model_save1\")"
      ],
      "execution_count": 56,
      "outputs": [
        {
          "output_type": "execute_result",
          "data": {
            "text/plain": [
              "['model_save1']"
            ]
          },
          "metadata": {
            "tags": []
          },
          "execution_count": 56
        }
      ]
    },
    {
      "cell_type": "code",
      "metadata": {
        "id": "fi6QrXApee8-"
      },
      "source": [
        ""
      ],
      "execution_count": null,
      "outputs": []
    }
  ]
}